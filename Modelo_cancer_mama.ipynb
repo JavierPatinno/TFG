{
  "cells": [
    {
      "cell_type": "code",
      "source": [
        "!pip install opencv-python -q"
      ],
      "metadata": {
        "id": "9An7toRNtyrB"
      },
      "execution_count": 27,
      "outputs": []
    },
    {
      "cell_type": "code",
      "execution_count": 1,
      "metadata": {
        "id": "eM1lQZm6jg23"
      },
      "outputs": [],
      "source": [
        "import pandas as pd\n",
        "import numpy as np\n",
        "import os\n",
        "import cv2\n",
        "from sklearn.model_selection import train_test_split\n",
        "import random\n",
        "import seaborn as sns\n",
        "import matplotlib.pyplot as plt"
      ]
    },
    {
      "cell_type": "code",
      "execution_count": 44,
      "metadata": {
        "colab": {
          "base_uri": "https://localhost:8080/"
        },
        "id": "xFfJ71IN2UWz",
        "outputId": "381c692e-12b7-4ccf-db92-da77f898541e"
      },
      "outputs": [
        {
          "output_type": "stream",
          "name": "stdout",
          "text": [
            "Path to dataset files: /kaggle/input/breast-histopathology-images\n"
          ]
        }
      ],
      "source": [
        "import kagglehub\n",
        "\n",
        "# Download latest version\n",
        "path = kagglehub.dataset_download(\"paultimothymooney/breast-histopathology-images\")\n",
        "\n",
        "print(\"Path to dataset files:\", path)"
      ]
    },
    {
      "cell_type": "code",
      "execution_count": 45,
      "metadata": {
        "id": "FTo-3TADNMgn"
      },
      "outputs": [],
      "source": [
        "directorios = os.listdir('/kaggle/input/breast-histopathology-images/IDC_regular_ps50_idx5')"
      ]
    },
    {
      "cell_type": "code",
      "source": [
        "rutas_imgs_no_cancer = []\n",
        "rutas_imgs_cancer = []\n",
        "for directorio in directorios:\n",
        "  for subdirectorio in os.listdir(f'{path}/{directorio}'):\n",
        "    if subdirectorio == '0':\n",
        "      for imagen in os.listdir(f'{path}/{directorio}/{subdirectorio}'):\n",
        "        rutas_imgs_no_cancer.append(f'{path}/{directorio}/{subdirectorio}/{imagen}')\n",
        "    else:\n",
        "      for imagen in os.listdir(f'{path}/{directorio}/{subdirectorio}'):\n",
        "        rutas_imgs_cancer.append(f'{path}/{directorio}/{subdirectorio}/{imagen}')"
      ],
      "metadata": {
        "id": "CBqzGRJfV9ij"
      },
      "execution_count": 46,
      "outputs": []
    },
    {
      "cell_type": "code",
      "source": [
        "print(rutas_imgs_no_cancer[0].split('/')[6])"
      ],
      "metadata": {
        "colab": {
          "base_uri": "https://localhost:8080/"
        },
        "id": "n9W6eERHLbzk",
        "outputId": "ac2d949d-582f-49d1-c020-b9af23d144b7"
      },
      "execution_count": 47,
      "outputs": [
        {
          "output_type": "stream",
          "name": "stdout",
          "text": [
            "10295_idx5_x1351_y1101_class0.png\n"
          ]
        }
      ]
    },
    {
      "cell_type": "code",
      "source": [
        "for imagen in rutas_imgs_no_cancer:\n",
        "  if imagen.split('/')[6][-5] != '0':\n",
        "    print(imagen.split('/')[5])"
      ],
      "metadata": {
        "collapsed": true,
        "id": "kfvdjiz-MDED"
      },
      "execution_count": 48,
      "outputs": []
    },
    {
      "cell_type": "code",
      "source": [
        "for imagen in rutas_imgs_cancer:\n",
        "  if imagen.split('/')[6][-5] != '1':\n",
        "    print(imagen.split('/')[5])"
      ],
      "metadata": {
        "id": "kim1ZFerNFC2"
      },
      "execution_count": 49,
      "outputs": []
    },
    {
      "cell_type": "code",
      "source": [
        "print(f'Muestras Positivas {len(rutas_imgs_cancer)}\\nMuestras Negatias {len(rutas_imgs_no_cancer)} ')"
      ],
      "metadata": {
        "colab": {
          "base_uri": "https://localhost:8080/"
        },
        "id": "pxb-XJEMZr1w",
        "outputId": "adc7217d-13de-4790-bf44-995fe9ad8ccf"
      },
      "execution_count": 50,
      "outputs": [
        {
          "output_type": "stream",
          "name": "stdout",
          "text": [
            "Muestras Positivas 78786\n",
            "Muestras Negatias 198738 \n"
          ]
        }
      ]
    },
    {
      "cell_type": "markdown",
      "source": [
        "Las clases claramente estan desbalanceadas.\n",
        "Algunas soluciones para dar equilibrio y que este problema no ocurra son:\n",
        "- Disminuir la clase mayoritatia\n",
        "- Aumentar la clase minoritaria mediante Data Augmentation\n",
        "\n",
        "Una buena pregunta seria:\n",
        "Nivelar las instancias de ambas clases para que esten equilibradas no seria de alguna manera alterar la 'realidad' o la naturaleza/proporcionalidad en la que verdaderamente se manfiesta la variable en la vida real.\n",
        "\n",
        "Por ejemplo:\n",
        "Si una enfermedad se manfiesta de tal que forma que por cada persona enferma existen dos personas sanas y el dataset que se pretende explotar tiene 2 millones de instancias de personas sanas y un millon de personas que padecen la enfermedad, esta realmente desbalanceado o simplemente atiende a la realidad?\n",
        "Anotacion:\n",
        "Quiza la solucion sea una especie de termino medio como que la proporcion sea 1.2-1.6 por ejemplo el rango es formulado de manera aleatoria.\n",
        "\n",
        "Pensando un poco mas alla surge otra pregunta mas en el caso de que esto afecte es lo mismo rebajar la clase mayoritaria (submuestreo) que aumentar la minoritaria (sobremuestreo)\n",
        "\n",
        "SUBMUESTREO\n",
        "- PROS\n",
        "  - Mas rapido/ Menos recursos\n",
        "- CONTRAS\n",
        "  - Se pueden perder muestras representativas"
      ],
      "metadata": {
        "id": "6etjf6CIbNz-"
      }
    },
    {
      "cell_type": "markdown",
      "source": [
        "# Preparacion de las imagenes\n"
      ],
      "metadata": {
        "id": "t9db4e5Eb63p"
      }
    },
    {
      "cell_type": "markdown",
      "source": [
        "Las medidas durante la preparacion de las imagenes son:\n",
        "- Normalización.\n",
        "- Redimensionar porque a pesar de que se indica que todas estan  50x50 no es asi.\n",
        "- Se mantienen a color puesto que este aporta informacion util."
      ],
      "metadata": {
        "id": "S2mi-o9wca-4"
      }
    },
    {
      "cell_type": "code",
      "source": [
        "rutas_imgs_no_cancer = rutas_imgs_no_cancer[0:int(5000* 1.3)]\n",
        "rutas_imgs_cancer = rutas_imgs_cancer[0:5000]"
      ],
      "metadata": {
        "id": "vpkx05c92t2o"
      },
      "execution_count": 51,
      "outputs": []
    },
    {
      "cell_type": "code",
      "source": [
        "# CARGAR IMAGENES\n",
        "imgs_cancer = [cv2.imread(ruta) for ruta in rutas_imgs_cancer]\n",
        "imgs_no_cancer = [cv2.imread(ruta) for ruta in rutas_imgs_no_cancer]"
      ],
      "metadata": {
        "id": "jYIv_gwebNc_"
      },
      "execution_count": 52,
      "outputs": []
    },
    {
      "cell_type": "code",
      "source": [
        "for img in imgs_cancer:\n",
        "  if img.shape != (50,50,3):\n",
        "    print(img.shape)"
      ],
      "metadata": {
        "id": "-La84XNhTg2G"
      },
      "execution_count": 53,
      "outputs": []
    },
    {
      "cell_type": "code",
      "source": [
        "for img in imgs_no_cancer:\n",
        "  if img.shape != (50,50,3):\n",
        "    print(img.shape)"
      ],
      "metadata": {
        "colab": {
          "base_uri": "https://localhost:8080/"
        },
        "id": "RFd2kcpyUAZ5",
        "outputId": "bd473496-f2b0-4326-9e6c-cd08ec9beebf"
      },
      "execution_count": 54,
      "outputs": [
        {
          "output_type": "stream",
          "name": "stdout",
          "text": [
            "(3, 50, 3)\n",
            "(37, 50, 3)\n",
            "(37, 50, 3)\n",
            "(37, 50, 3)\n",
            "(37, 50, 3)\n",
            "(37, 50, 3)\n",
            "(37, 50, 3)\n",
            "(37, 50, 3)\n",
            "(37, 50, 3)\n",
            "(37, 50, 3)\n",
            "(37, 50, 3)\n",
            "(37, 50, 3)\n",
            "(37, 50, 3)\n",
            "(37, 50, 3)\n",
            "(37, 50, 3)\n",
            "(37, 50, 3)\n",
            "(37, 50, 3)\n",
            "(37, 50, 3)\n",
            "(37, 50, 3)\n",
            "(37, 50, 3)\n",
            "(37, 50, 3)\n",
            "(37, 50, 3)\n",
            "(39, 50, 3)\n",
            "(39, 50, 3)\n",
            "(39, 50, 3)\n",
            "(39, 50, 3)\n",
            "(39, 50, 3)\n",
            "(39, 50, 3)\n",
            "(39, 50, 3)\n",
            "(39, 50, 3)\n",
            "(39, 50, 3)\n",
            "(39, 50, 3)\n",
            "(39, 50, 3)\n",
            "(39, 50, 3)\n",
            "(39, 50, 3)\n",
            "(39, 50, 3)\n",
            "(39, 50, 3)\n",
            "(39, 50, 3)\n",
            "(39, 50, 3)\n",
            "(39, 50, 3)\n",
            "(39, 50, 3)\n",
            "(39, 50, 3)\n",
            "(39, 50, 3)\n",
            "(39, 50, 3)\n",
            "(39, 50, 3)\n",
            "(39, 50, 3)\n",
            "(39, 50, 3)\n",
            "(39, 50, 3)\n",
            "(39, 50, 3)\n",
            "(39, 50, 3)\n",
            "(39, 50, 3)\n",
            "(39, 50, 3)\n",
            "(39, 50, 3)\n",
            "(39, 50, 3)\n",
            "(39, 50, 3)\n",
            "(39, 50, 3)\n",
            "(39, 50, 3)\n",
            "(39, 50, 3)\n"
          ]
        }
      ]
    },
    {
      "cell_type": "code",
      "source": [
        "# REDIMENSIONAR Y NORMALIZAR\n",
        "MEDIDAS = (50,50)\n",
        "imgs_cancer = [[cv2.resize(imagen, MEDIDAS, interpolation=cv2.INTER_LINEAR)/255, 1] for imagen in imgs_cancer]\n",
        "imgs_no_cancer = [[cv2.resize(imagen, MEDIDAS, interpolation=cv2.INTER_LINEAR)/255, 0] for imagen in imgs_no_cancer]"
      ],
      "metadata": {
        "id": "pg2oDsE3sOAZ"
      },
      "execution_count": 38,
      "outputs": []
    },
    {
      "cell_type": "markdown",
      "source": [
        "# TRAIN TEST"
      ],
      "metadata": {
        "id": "GfzdPYEx3SvM"
      }
    },
    {
      "cell_type": "code",
      "source": [
        "# MEZCLAR LAS MUESTRAS\n",
        "datos = imgs_cancer+imgs_no_cancer\n",
        "random.shuffle(datos)\n",
        "\n",
        "X = []\n",
        "y = []\n",
        "# SEPARAR EN IMAGENES Y ETIQUETAS\n",
        "for imagen, etiqueta in datos:\n",
        "  X.append(imagen)\n",
        "  y.append(etiqueta)\n",
        "\n",
        "X = np.array(X)\n",
        "y = np.array(y)\n",
        "\n",
        "X_train, X_temp, y_train, y_temp = train_test_split(X, y, test_size=0.2, random_state=100303)\n",
        "X_test, X_val, y_test, y_val = train_test_split(X_temp, y_temp, test_size=0.5, random_state=100303)"
      ],
      "metadata": {
        "id": "oHthH70u2qEB"
      },
      "execution_count": 39,
      "outputs": []
    },
    {
      "cell_type": "markdown",
      "source": [
        "# MODELO"
      ],
      "metadata": {
        "id": "TM_grCLWajc1"
      }
    },
    {
      "cell_type": "code",
      "source": [
        "from keras.models import Sequential\n",
        "from keras.layers import Conv2D, MaxPooling2D, BatchNormalization, Dense, Dropout, Flatten, Input, Activation\n"
      ],
      "metadata": {
        "id": "AGaLcu1YSQ9T"
      },
      "execution_count": 6,
      "outputs": []
    },
    {
      "cell_type": "code",
      "source": [
        "model = Sequential()\n",
        "\n",
        "model.add(Conv2D(32, (3, 3), padding='same', kernel_initializer='he_uniform', use_bias=False, input_shape=(50, 50, 3)))\n",
        "model.add(BatchNormalization())\n",
        "model.add(Activation('relu'))\n",
        "\n",
        "model.add(Conv2D(32, (3, 3), padding='same', kernel_initializer='he_uniform', use_bias=False))\n",
        "model.add(BatchNormalization())\n",
        "model.add(Activation('relu'))\n",
        "\n",
        "model.add(MaxPooling2D(pool_size=(2, 2)))\n",
        "model.add(Dropout(0.3))\n",
        "\n",
        "model.add(Conv2D(64, (3, 3), padding='same', kernel_initializer='he_uniform', use_bias=False))\n",
        "model.add(BatchNormalization())\n",
        "model.add(Activation('relu'))\n",
        "\n",
        "model.add(Conv2D(64, (3, 3), padding='same', kernel_initializer='he_uniform', use_bias=False))\n",
        "model.add(BatchNormalization())\n",
        "model.add(Activation('relu'))\n",
        "\n",
        "model.add(MaxPooling2D(pool_size=(2, 2)))\n",
        "model.add(Dropout(0.3))\n",
        "\n",
        "\n",
        "model.add(Conv2D(128, (3, 3), padding='same', kernel_initializer='he_uniform', use_bias=False))\n",
        "model.add(BatchNormalization())\n",
        "model.add(Activation('relu'))\n",
        "\n",
        "model.add(MaxPooling2D(pool_size=(2, 2)))\n",
        "\n",
        "model.add(Flatten())\n",
        "model.add(Dense(128, kernel_initializer='he_uniform', use_bias=False))\n",
        "model.add(BatchNormalization())\n",
        "model.add(Activation('relu'))\n",
        "\n",
        "model.add(Dropout(0.3))\n",
        "model.add(Dense(1, activation='sigmoid'))\n",
        "\n",
        "model.compile(optimizer='adam', loss='binary_crossentropy', metrics=['accuracy'])\n"
      ],
      "metadata": {
        "colab": {
          "base_uri": "https://localhost:8080/"
        },
        "collapsed": true,
        "id": "O8DsFKhfbdWH",
        "outputId": "65966eda-20f5-430f-ef07-6d003d7d2ec1"
      },
      "execution_count": 7,
      "outputs": [
        {
          "output_type": "stream",
          "name": "stderr",
          "text": [
            "/usr/local/lib/python3.11/dist-packages/keras/src/layers/convolutional/base_conv.py:107: UserWarning: Do not pass an `input_shape`/`input_dim` argument to a layer. When using Sequential models, prefer using an `Input(shape)` object as the first layer in the model instead.\n",
            "  super().__init__(activity_regularizer=activity_regularizer, **kwargs)\n"
          ]
        }
      ]
    },
    {
      "cell_type": "code",
      "source": [
        "historial = model.fit(X_train, y_train, epochs=15, batch_size=32, validation_data=(X_val, y_val))"
      ],
      "metadata": {
        "id": "rXZRmXiBj_3f"
      },
      "execution_count": null,
      "outputs": []
    },
    {
      "cell_type": "code",
      "source": [
        "y_pred_probs = model.predict(X_test)\n",
        "y_pred = (y_pred_probs > 0.5).astype(int).flatten()\n"
      ],
      "metadata": {
        "id": "1FvVHry8cggr"
      },
      "execution_count": null,
      "outputs": []
    },
    {
      "cell_type": "code",
      "source": [
        "from sklearn.metrics import accuracy_score, precision_score, recall_score, f1_score, confusion_matrix, classification_report\n",
        "\n",
        "accuracy = accuracy_score(y_test, y_pred)\n",
        "precision = precision_score(y_test, y_pred)\n",
        "recall = recall_score(y_test, y_pred)\n",
        "f1 = f1_score(y_test, y_pred)\n",
        "\n",
        "print(\"Accuracy:\", accuracy)\n",
        "print(\"Precision:\", precision)\n",
        "print(\"Recall:\", recall)\n",
        "print(\"F1:\", f1)\n"
      ],
      "metadata": {
        "id": "c7HRcpTkcojI"
      },
      "execution_count": null,
      "outputs": []
    },
    {
      "cell_type": "code",
      "source": [
        "cm = confusion_matrix(y_test, y_pred)\n",
        "sns.heatmap(cm, annot=True, fmt=\"d\", cmap=\"Blues\")\n",
        "plt.xlabel('Predicción')\n",
        "plt.ylabel('Valor real')\n",
        "plt.title('Matriz de Confusión')\n",
        "plt.show()\n"
      ],
      "metadata": {
        "id": "Lx4rREvkcsSn"
      },
      "execution_count": null,
      "outputs": []
    },
    {
      "cell_type": "code",
      "source": [
        "import pickle\n",
        "model.save('modelo_cancer_de_mama.keras')\n",
        "model.save('modelo_cancer_de_mama.h5')\n",
        "with open('historial_modelo_cancermama.pkl', 'wb') as file:\n",
        "    pickle.dump(historial, file)"
      ],
      "metadata": {
        "id": "W2n8g5LWcyFX"
      },
      "execution_count": null,
      "outputs": []
    }
  ],
  "metadata": {
    "colab": {
      "provenance": []
    },
    "kernelspec": {
      "display_name": "Python 3",
      "name": "python3"
    },
    "language_info": {
      "name": "python"
    }
  },
  "nbformat": 4,
  "nbformat_minor": 0
}